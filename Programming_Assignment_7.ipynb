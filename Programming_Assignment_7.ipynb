{
 "cells": [
  {
   "cell_type": "code",
   "execution_count": 1,
   "id": "789504a6-954e-4260-81b4-d206bb04c914",
   "metadata": {},
   "outputs": [],
   "source": [
    "# Write a Python Program to find sum of array?"
   ]
  },
  {
   "cell_type": "code",
   "execution_count": 3,
   "id": "59479330-f272-4efb-a57e-6cad65a707cb",
   "metadata": {},
   "outputs": [
    {
     "name": "stdout",
     "output_type": "stream",
     "text": [
      "The sum of the elements in the array is 15\n"
     ]
    }
   ],
   "source": [
    "arr = [1, 2, 3, 4, 5]\n",
    "print(\"The sum of the elements in the array is\", sum(arr))"
   ]
  },
  {
   "cell_type": "code",
   "execution_count": null,
   "id": "9088d62b-4cca-42bc-b4a9-6e9fbbabe1af",
   "metadata": {},
   "outputs": [],
   "source": []
  },
  {
   "cell_type": "code",
   "execution_count": 4,
   "id": "c49a0fbd-affd-408a-8c74-222d7d928407",
   "metadata": {},
   "outputs": [],
   "source": [
    "# Write a Python Program to find largest element in an array?"
   ]
  },
  {
   "cell_type": "code",
   "execution_count": 7,
   "id": "3fbaaa25-b122-473c-bad6-9fc8b7961b91",
   "metadata": {},
   "outputs": [
    {
     "name": "stdout",
     "output_type": "stream",
     "text": [
      "The largest of the elements in the array is 30\n"
     ]
    }
   ],
   "source": [
    "arr = [1, 2, 30, 4, 5]\n",
    "print(\"The largest of the elements in the array is\", max(arr))"
   ]
  },
  {
   "cell_type": "code",
   "execution_count": null,
   "id": "4df1b246-d355-4dd8-bdf9-4c699fdb02b7",
   "metadata": {},
   "outputs": [],
   "source": []
  },
  {
   "cell_type": "code",
   "execution_count": 8,
   "id": "a28fc842-374d-46b8-a616-df21de9f3b19",
   "metadata": {},
   "outputs": [],
   "source": [
    "# Write a Python Program for array rotation?"
   ]
  },
  {
   "cell_type": "code",
   "execution_count": 29,
   "id": "7ba1e137-5d48-41e0-a047-68dcc536def9",
   "metadata": {},
   "outputs": [
    {
     "name": "stdin",
     "output_type": "stream",
     "text": [
      "enter the rotation count 2\n"
     ]
    },
    {
     "name": "stdout",
     "output_type": "stream",
     "text": [
      "[3, 4, 5, 6, 1, 2]\n"
     ]
    }
   ],
   "source": [
    "arr = [1, 2, 3, 4, 5,6]\n",
    "rotation_count = int(input(\"enter the rotation count\"))\n",
    "rotation_count = rotation_count % len(arr)\n",
    "print(arr[rotation_count:]  + arr[:rotation_count] )\n"
   ]
  },
  {
   "cell_type": "code",
   "execution_count": null,
   "id": "0b480a13-ef6f-47a5-8b69-f0e171a2de49",
   "metadata": {},
   "outputs": [],
   "source": []
  },
  {
   "cell_type": "code",
   "execution_count": 25,
   "id": "15007b2b-dfd6-4710-973c-db43382ee3cf",
   "metadata": {},
   "outputs": [],
   "source": [
    "# Write a Python Program to Split the array and add the first part to the end?"
   ]
  },
  {
   "cell_type": "code",
   "execution_count": 31,
   "id": "fcb85ebb-f67a-4421-8468-b3d85cdd9270",
   "metadata": {},
   "outputs": [
    {
     "name": "stdout",
     "output_type": "stream",
     "text": [
      "The split and added array is [3, 4, 5, 6, 1, 2]\n"
     ]
    }
   ],
   "source": [
    "arr = [1, 2, 3, 4, 5, 6]\n",
    "split_index = 2\n",
    "print(\"The split and added array is\", arr[split_index:] + arr[:split_index])"
   ]
  },
  {
   "cell_type": "code",
   "execution_count": null,
   "id": "e65472e5-d094-43d6-818a-352a169c4522",
   "metadata": {},
   "outputs": [],
   "source": []
  },
  {
   "cell_type": "code",
   "execution_count": 1,
   "id": "92e1eb76-3c9e-4dc1-bb1d-42425cb06557",
   "metadata": {},
   "outputs": [],
   "source": [
    "#5. Write a Python Program to check if given array is Monotonic?"
   ]
  },
  {
   "cell_type": "code",
   "execution_count": null,
   "id": "9eeea663-1e3f-4496-9a52-5c4d9ca332b1",
   "metadata": {},
   "outputs": [],
   "source": []
  }
 ],
 "metadata": {
  "kernelspec": {
   "display_name": "Python 3 (ipykernel)",
   "language": "python",
   "name": "python3"
  },
  "language_info": {
   "codemirror_mode": {
    "name": "ipython",
    "version": 3
   },
   "file_extension": ".py",
   "mimetype": "text/x-python",
   "name": "python",
   "nbconvert_exporter": "python",
   "pygments_lexer": "ipython3",
   "version": "3.10.6"
  }
 },
 "nbformat": 4,
 "nbformat_minor": 5
}

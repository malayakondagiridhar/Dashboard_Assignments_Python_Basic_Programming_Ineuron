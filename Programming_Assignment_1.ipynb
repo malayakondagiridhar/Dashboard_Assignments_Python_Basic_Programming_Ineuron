{
 "cells": [
  {
   "cell_type": "code",
   "execution_count": 1,
   "id": "c64ff1e9",
   "metadata": {},
   "outputs": [],
   "source": [
    "#Write a Python program to print \"Hello Python\"?"
   ]
  },
  {
   "cell_type": "code",
   "execution_count": 2,
   "id": "451c6cc1",
   "metadata": {},
   "outputs": [
    {
     "name": "stdout",
     "output_type": "stream",
     "text": [
      "Hello Python\n"
     ]
    }
   ],
   "source": [
    "print(\"Hello Python\")"
   ]
  },
  {
   "cell_type": "code",
   "execution_count": null,
   "id": "ff1470aa",
   "metadata": {},
   "outputs": [],
   "source": []
  },
  {
   "cell_type": "code",
   "execution_count": 3,
   "id": "6bca3551",
   "metadata": {},
   "outputs": [],
   "source": [
    "#Write a Python program to do arithmetical operations addition and division"
   ]
  },
  {
   "cell_type": "code",
   "execution_count": 37,
   "id": "235d02fc",
   "metadata": {},
   "outputs": [
    {
     "name": "stdout",
     "output_type": "stream",
     "text": [
      "enter the 1st number 10\n",
      "enter the 2nd number 5\n",
      "the sum of 10 and 5 is 15\n",
      "\n",
      "the substraction of 10 and 5 is 5\n",
      "\n",
      "the multiplication of 10 and 5 is 50\n",
      "\n",
      "the division of 10 and 5 is 2.0\n",
      "\n"
     ]
    }
   ],
   "source": [
    "num1 = int(input(\"enter the 1st number \"))\n",
    "num2 = int(input(\"enter the 2nd number \"))\n",
    "addition = num1+num2\n",
    "substraction = num1-num2\n",
    "multiplication = num1*num2\n",
    "division  = num1/num2\n",
    "print(f\"the sum of {num1} and {num2} is {addition}\\n\")\n",
    "print(f\"the substraction of {num1} and {num2} is {substraction}\\n\")\n",
    "print(f\"the multiplication of {num1} and {num2} is {multiplication}\\n\")\n",
    "print(f\"the division of {num1} and {num2} is {division}\\n\")"
   ]
  },
  {
   "cell_type": "code",
   "execution_count": null,
   "id": "554296b3",
   "metadata": {},
   "outputs": [],
   "source": []
  },
  {
   "cell_type": "code",
   "execution_count": 12,
   "id": "6fe3c94c",
   "metadata": {},
   "outputs": [],
   "source": [
    "#Write a Python program to find the area of a triangle?"
   ]
  },
  {
   "cell_type": "code",
   "execution_count": 38,
   "id": "61563bb0",
   "metadata": {},
   "outputs": [
    {
     "name": "stdout",
     "output_type": "stream",
     "text": [
      "enter the height of the traingle 10\n",
      "enter the base of the traingle 20\n",
      "the area of the triangle is 100.0\n"
     ]
    }
   ],
   "source": [
    "height = int(input(\"enter the height of the traingle \"))\n",
    "base = int(input(\"enter the base of the traingle \"))\n",
    "area = (0.5) * (base*height)\n",
    "print(f\"the area of the triangle is {area}\")"
   ]
  },
  {
   "cell_type": "code",
   "execution_count": null,
   "id": "7b8fd057",
   "metadata": {},
   "outputs": [],
   "source": []
  },
  {
   "cell_type": "code",
   "execution_count": 17,
   "id": "7e345b56",
   "metadata": {},
   "outputs": [],
   "source": [
    "#Write a Python program to swap two variables?"
   ]
  },
  {
   "cell_type": "code",
   "execution_count": 19,
   "id": "dd1ef4b8",
   "metadata": {},
   "outputs": [
    {
     "name": "stdout",
     "output_type": "stream",
     "text": [
      "enter the 1st number 10\n",
      "enter the 2nd number 100\n",
      "the values of variable 1 and variale 2 before swapping are 10and 100\n",
      "the values of variable 1 and variale 2 after swapping are 100and 10\n"
     ]
    }
   ],
   "source": [
    "var1 = int(input(\"enter the 1st number \"))\n",
    "var2 = int(input(\"enter the 2nd number \"))\n",
    "print(f\"the values of variable 1 and variale 2 before swapping are {var1 } and {var2}\")\n",
    "var1 = var1+var2\n",
    "var2 = var1-var2\n",
    "var1 = var1-var2\n",
    "print(f\"the values of variable 1 and variale 2 after swapping are {var1 } and {var2}\")"
   ]
  },
  {
   "cell_type": "code",
   "execution_count": null,
   "id": "d7050d11",
   "metadata": {},
   "outputs": [],
   "source": []
  },
  {
   "cell_type": "code",
   "execution_count": 20,
   "id": "0d5697b8",
   "metadata": {},
   "outputs": [],
   "source": [
    "#Write a Python program to generate a random number?"
   ]
  },
  {
   "cell_type": "code",
   "execution_count": 30,
   "id": "63e8d09e",
   "metadata": {},
   "outputs": [
    {
     "name": "stdout",
     "output_type": "stream",
     "text": [
      "enter the upper limit of random number 123\n",
      "the random number we generated is 102\n"
     ]
    }
   ],
   "source": [
    "import random\n",
    "n = int(input(\"enter the upper limit of random number \"))\n",
    "print(f\"the random number we generated is {random.randint(0,n)}\")"
   ]
  }
 ],
 "metadata": {
  "kernelspec": {
   "display_name": "Python 3 (ipykernel)",
   "language": "python",
   "name": "python3"
  },
  "language_info": {
   "codemirror_mode": {
    "name": "ipython",
    "version": 3
   },
   "file_extension": ".py",
   "mimetype": "text/x-python",
   "name": "python",
   "nbconvert_exporter": "python",
   "pygments_lexer": "ipython3",
   "version": "3.9.12"
  }
 },
 "nbformat": 4,
 "nbformat_minor": 5
}

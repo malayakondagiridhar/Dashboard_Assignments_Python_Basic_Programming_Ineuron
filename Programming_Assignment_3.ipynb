{
 "cells": [
  {
   "cell_type": "code",
   "execution_count": 1,
   "id": "a0d85baf",
   "metadata": {},
   "outputs": [],
   "source": [
    "#Write a Python Program to Check if a Number is Positive, Negative or Zero?"
   ]
  },
  {
   "cell_type": "code",
   "execution_count": 6,
   "id": "299aa951",
   "metadata": {},
   "outputs": [
    {
     "name": "stdout",
     "output_type": "stream",
     "text": [
      "enter the number23\n",
      "23 is a positive number\n"
     ]
    }
   ],
   "source": [
    "n = int(input(\"enter the number\"))\n",
    "if n > 0:\n",
    "    print(f\"{n} is a positive number\")\n",
    "elif n < 0:\n",
    "    print(f\"{n} is a negative number\")\n",
    "else:\n",
    "    print(\"you enterd zero\")"
   ]
  },
  {
   "cell_type": "code",
   "execution_count": null,
   "id": "5f5d5604",
   "metadata": {},
   "outputs": [],
   "source": []
  },
  {
   "cell_type": "code",
   "execution_count": 7,
   "id": "834c4127",
   "metadata": {},
   "outputs": [],
   "source": [
    "#Write a Python Program to Check if a Number is Odd or Even?\n"
   ]
  },
  {
   "cell_type": "code",
   "execution_count": 9,
   "id": "d6515a71",
   "metadata": {},
   "outputs": [
    {
     "name": "stdout",
     "output_type": "stream",
     "text": [
      "enter the number13\n",
      "13 is a odd number\n"
     ]
    }
   ],
   "source": [
    "num = int(input(\"enter the number\"))\n",
    "if num%2 == 0:\n",
    "    print(f\"{num} is a even number\")\n",
    "else:\n",
    "    print(f\"{num} is a odd number\")"
   ]
  },
  {
   "cell_type": "code",
   "execution_count": null,
   "id": "713965a7",
   "metadata": {},
   "outputs": [],
   "source": []
  },
  {
   "cell_type": "code",
   "execution_count": 10,
   "id": "1bdaa462",
   "metadata": {},
   "outputs": [],
   "source": [
    "#Write a Python Program to Check Leap Year?"
   ]
  },
  {
   "cell_type": "code",
   "execution_count": 18,
   "id": "f8549987",
   "metadata": {},
   "outputs": [
    {
     "name": "stdout",
     "output_type": "stream",
     "text": [
      "enter the year1992\n",
      "1992 is a leap year\n"
     ]
    }
   ],
   "source": [
    "year = int(input(\"enter the year\"))\n",
    "if year%100==0:\n",
    "    if year%400==0:\n",
    "        print(f\"{year} is a leap year\")\n",
    "    else:\n",
    "        print(f\"{year} is not a leap year\")\n",
    "elif year%4==0:\n",
    "        print(f\"{year} is a leap year\")\n",
    "        "
   ]
  },
  {
   "cell_type": "code",
   "execution_count": 45,
   "id": "4d38691c",
   "metadata": {},
   "outputs": [
    {
     "name": "stdout",
     "output_type": "stream",
     "text": [
      "2\n"
     ]
    }
   ],
   "source": [
    "print(11%3)"
   ]
  },
  {
   "cell_type": "code",
   "execution_count": 19,
   "id": "0ed48267",
   "metadata": {},
   "outputs": [],
   "source": [
    "#Write a Python Program to Check Prime Number?"
   ]
  },
  {
   "cell_type": "code",
   "execution_count": 99,
   "id": "ab8772cf",
   "metadata": {},
   "outputs": [
    {
     "name": "stdout",
     "output_type": "stream",
     "text": [
      "enter the number12\n",
      "count 4\n",
      "12 is not a prime number\n"
     ]
    }
   ],
   "source": [
    "num = int(input(\"enter the number\"))\n",
    "count=0\n",
    "if num == 1:\n",
    "    print(f\"{num} is not a prime number\")\n",
    "elif num>1:\n",
    "    for i in range (2,(num//2)+1):\n",
    "        \n",
    "        #print(i)\n",
    "        if num%i == 0:\n",
    "            count = count+1\n",
    "    print(\"count\",count)\n",
    "    if count >= 1:\n",
    "        print(f\"{num} is not a prime number\" )\n",
    "    else:\n",
    "        print(f\"{num} is  a prime number\" )\n",
    "else:\n",
    "        print(f\"{num} is not a prime number\" )"
   ]
  },
  {
   "cell_type": "code",
   "execution_count": null,
   "id": "9904892a",
   "metadata": {},
   "outputs": [],
   "source": []
  },
  {
   "cell_type": "code",
   "execution_count": 4,
   "id": "9cdf22af",
   "metadata": {},
   "outputs": [],
   "source": [
    "#Write a Python Program to Print all Prime Numbers in an Interval of 1-10000?"
   ]
  },
  {
   "cell_type": "code",
   "execution_count": 14,
   "id": "2a33bcf8",
   "metadata": {},
   "outputs": [
    {
     "name": "stdout",
     "output_type": "stream",
     "text": [
      "2  3  5  7  11  13  17  19  "
     ]
    }
   ],
   "source": [
    "for i in range (1,20): # given range as 1,20. Because laptop lagging for larger range\n",
    "    count = 0\n",
    "    for j in range (1,(i//2)+1):\n",
    "        if i%j == 0:\n",
    "            count=count+1\n",
    "    if count == 1:\n",
    "        print(i,end=\"  \")"
   ]
  }
 ],
 "metadata": {
  "kernelspec": {
   "display_name": "Python 3 (ipykernel)",
   "language": "python",
   "name": "python3"
  },
  "language_info": {
   "codemirror_mode": {
    "name": "ipython",
    "version": 3
   },
   "file_extension": ".py",
   "mimetype": "text/x-python",
   "name": "python",
   "nbconvert_exporter": "python",
   "pygments_lexer": "ipython3",
   "version": "3.10.6"
  }
 },
 "nbformat": 4,
 "nbformat_minor": 5
}

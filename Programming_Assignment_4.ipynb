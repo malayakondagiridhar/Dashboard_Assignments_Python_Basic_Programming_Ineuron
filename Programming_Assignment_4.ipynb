{
 "cells": [
  {
   "cell_type": "code",
   "execution_count": null,
   "id": "1f7a5a8b",
   "metadata": {},
   "outputs": [],
   "source": [
    "#Write a Python Program to Find the Factorial of a Number?"
   ]
  },
  {
   "cell_type": "code",
   "execution_count": null,
   "id": "2b968224",
   "metadata": {},
   "outputs": [],
   "source": [
    "num = int(input(\"enter the number\"))\n",
    "fact=1\n",
    "for i in range(1,num+1):\n",
    "    fact=fact * i\n",
    "print(fact)"
   ]
  },
  {
   "cell_type": "code",
   "execution_count": null,
   "id": "195a6402",
   "metadata": {},
   "outputs": [],
   "source": []
  },
  {
   "cell_type": "code",
   "execution_count": null,
   "id": "d1470686",
   "metadata": {},
   "outputs": [],
   "source": [
    "#Write a Python Program to Display the multiplication Table?"
   ]
  },
  {
   "cell_type": "code",
   "execution_count": null,
   "id": "fe01cceb",
   "metadata": {},
   "outputs": [],
   "source": [
    "mul_table = int(input(\"enter the number\"))\n",
    "for i in range (1,11):\n",
    "    print(f\"{mul_table}*{i} = {mul_table*i}\")"
   ]
  },
  {
   "cell_type": "code",
   "execution_count": null,
   "id": "75183f69",
   "metadata": {},
   "outputs": [],
   "source": []
  },
  {
   "cell_type": "code",
   "execution_count": null,
   "id": "be224111",
   "metadata": {},
   "outputs": [],
   "source": [
    "#Write a Python Program to Print the Fibonacci sequence?"
   ]
  },
  {
   "cell_type": "code",
   "execution_count": null,
   "id": "aef49f8d",
   "metadata": {},
   "outputs": [],
   "source": [
    "fib_seq = int(input(\"enter the number\"))\n",
    "fib1,fib2 = 0,1\n",
    "print(fib1,fib2,end = \" \")\n",
    "for i in range(2,fib_seq+1):\n",
    "    new = (fib1+fib2)\n",
    "    print(new,end = \" \")\n",
    "    fib1 = fib2\n",
    "    fib2 = new"
   ]
  },
  {
   "cell_type": "code",
   "execution_count": null,
   "id": "921fa985",
   "metadata": {},
   "outputs": [],
   "source": [
    "374//10"
   ]
  },
  {
   "cell_type": "code",
   "execution_count": null,
   "id": "bb7457b7",
   "metadata": {},
   "outputs": [],
   "source": [
    "#Write a Python Program to Check Armstrong Number?"
   ]
  },
  {
   "cell_type": "code",
   "execution_count": null,
   "id": "5c2cc238",
   "metadata": {},
   "outputs": [],
   "source": [
    "num = int(input(\"enter the number \"))\n",
    "a=str(num)\n",
    "armstrong_num=0\n",
    "for i in range(0,len(a)):\n",
    "    denominator = num%10\n",
    "    armstrong_num = armstrong_num+denominator**3\n",
    "    num = num//10\n",
    "if armstrong_num == int(a):\n",
    "    print(f\"{x} is a armstrong number\")\n",
    "else:\n",
    "    print(f\"{x} is not a armstrong number\")"
   ]
  },
  {
   "cell_type": "code",
   "execution_count": null,
   "id": "bdcc884c",
   "metadata": {},
   "outputs": [],
   "source": []
  },
  {
   "cell_type": "code",
   "execution_count": 31,
   "id": "f023e6ee",
   "metadata": {},
   "outputs": [
    {
     "name": "stdout",
     "output_type": "stream",
     "text": [
      "enter the number 1534\n",
      "1534 is not a armstrong number\n"
     ]
    }
   ],
   "source": [
    "num = int(input(\"enter the number \"))\n",
    "a = num\n",
    "armstrong_num=0\n",
    "while num>0:\n",
    "    denominator = num%10\n",
    "    armstrong_num = armstrong_num+denominator**3\n",
    "    num = num//10\n",
    "if armstrong_num == a:\n",
    "    print(f\"{a} is a armstrong number\")\n",
    "else:\n",
    "    print(f\"{a} is not a armstrong number\")"
   ]
  },
  {
   "cell_type": "code",
   "execution_count": 16,
   "id": "d4065468",
   "metadata": {},
   "outputs": [
    {
     "data": {
      "text/plain": [
       "0"
      ]
     },
     "execution_count": 16,
     "metadata": {},
     "output_type": "execute_result"
    }
   ],
   "source": [
    "1//10"
   ]
  },
  {
   "cell_type": "code",
   "execution_count": 3,
   "id": "c15b06a4",
   "metadata": {},
   "outputs": [],
   "source": [
    "#Write a Python Program to Find Armstrong Number in an Interval?"
   ]
  },
  {
   "cell_type": "code",
   "execution_count": 38,
   "id": "a9254fd6",
   "metadata": {},
   "outputs": [
    {
     "name": "stdout",
     "output_type": "stream",
     "text": [
      "enter the number 500\n",
      "0 is a armstrong number\n",
      "1 is a armstrong number\n",
      "153 is a armstrong number\n",
      "370 is a armstrong number\n",
      "371 is a armstrong number\n",
      "407 is a armstrong number\n"
     ]
    }
   ],
   "source": [
    "n = int(input(\"enter the number \"))\n",
    "for i in range(1,n):\n",
    "    #print(f\"{i} ieration\")\n",
    "    for j in range(0,i):\n",
    "        a = j\n",
    "        armstrong_num=0\n",
    "        while j>0:\n",
    "            denominator = j%10\n",
    "            armstrong_num = armstrong_num+denominator**3\n",
    "            j = j//10\n",
    "    if armstrong_num == a:\n",
    "        print(f\"{a} is a armstrong number\")"
   ]
  },
  {
   "cell_type": "code",
   "execution_count": null,
   "id": "8b181820",
   "metadata": {},
   "outputs": [],
   "source": []
  },
  {
   "cell_type": "code",
   "execution_count": 39,
   "id": "5d2a08bb",
   "metadata": {},
   "outputs": [],
   "source": [
    "#Write a Python Program to Find the Sum of Natural Numbers?"
   ]
  },
  {
   "cell_type": "code",
   "execution_count": 45,
   "id": "e63840a4",
   "metadata": {},
   "outputs": [
    {
     "name": "stdout",
     "output_type": "stream",
     "text": [
      "enter the number 100\n",
      "5050.0\n"
     ]
    }
   ],
   "source": [
    "n = int(input(\"enter the number \")) \n",
    "sum = (n*(n+1))/2\n",
    "print(sum)"
   ]
  },
  {
   "cell_type": "code",
   "execution_count": null,
   "id": "fa2432df",
   "metadata": {},
   "outputs": [],
   "source": []
  },
  {
   "cell_type": "code",
   "execution_count": 1,
   "id": "aba3f48e",
   "metadata": {},
   "outputs": [
    {
     "name": "stdout",
     "output_type": "stream",
     "text": [
      "hello world\n"
     ]
    }
   ],
   "source": [
    "print(\"hello world\")"
   ]
  },
  {
   "cell_type": "code",
   "execution_count": null,
   "id": "167a76a3",
   "metadata": {},
   "outputs": [],
   "source": []
  }
 ],
 "metadata": {
  "kernelspec": {
   "display_name": "Python 3 (ipykernel)",
   "language": "python",
   "name": "python3"
  },
  "language_info": {
   "codemirror_mode": {
    "name": "ipython",
    "version": 3
   },
   "file_extension": ".py",
   "mimetype": "text/x-python",
   "name": "python",
   "nbconvert_exporter": "python",
   "pygments_lexer": "ipython3",
   "version": "3.9.12"
  }
 },
 "nbformat": 4,
 "nbformat_minor": 5
}

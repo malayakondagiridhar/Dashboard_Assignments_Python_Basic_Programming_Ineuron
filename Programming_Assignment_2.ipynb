{
 "cells": [
  {
   "cell_type": "code",
   "execution_count": 1,
   "id": "4e2b9860",
   "metadata": {},
   "outputs": [],
   "source": [
    " #Write a Python program to convert kilometers to miles?"
   ]
  },
  {
   "cell_type": "code",
   "execution_count": 3,
   "id": "818a25c5",
   "metadata": {},
   "outputs": [
    {
     "name": "stdin",
     "output_type": "stream",
     "text": [
      "enter how many kilometers need to convert into miles  7\n"
     ]
    },
    {
     "name": "stdout",
     "output_type": "stream",
     "text": [
      "7kms is 4.34959833 miles\n"
     ]
    }
   ],
   "source": [
    "x = int(input(\"enter how many kilometers need to convert into miles \"))\n",
    "y = x*0.62137119\n",
    "print(f\"{x}kms is {y} miles\")"
   ]
  },
  {
   "cell_type": "code",
   "execution_count": null,
   "id": "7f568f34",
   "metadata": {},
   "outputs": [],
   "source": []
  },
  {
   "cell_type": "code",
   "execution_count": 4,
   "id": "f955f137",
   "metadata": {},
   "outputs": [],
   "source": [
    "#Write a Python program to convert Celsius to Fahrenheit?"
   ]
  },
  {
   "cell_type": "code",
   "execution_count": 5,
   "id": "baa8be52",
   "metadata": {},
   "outputs": [
    {
     "name": "stdin",
     "output_type": "stream",
     "text": [
      "enter how many degree celsius need to convert into Farenheits  43\n"
     ]
    },
    {
     "name": "stdout",
     "output_type": "stream",
     "text": [
      "43degree celsius is 109.4 Farenheits\n"
     ]
    }
   ],
   "source": [
    "Celsius = int(input(\"enter how many degree celsius need to convert into Farenheits \"))\n",
    "Fahrenheit = Celsius*1.8+32\n",
    "print(f\"{Celsius}degree celsius is {Fahrenheit} Farenheits\")"
   ]
  },
  {
   "cell_type": "code",
   "execution_count": null,
   "id": "13990f80",
   "metadata": {},
   "outputs": [],
   "source": []
  },
  {
   "cell_type": "code",
   "execution_count": 6,
   "id": "126a3f41",
   "metadata": {},
   "outputs": [],
   "source": [
    "#Write a Python program to display calendar?"
   ]
  },
  {
   "cell_type": "code",
   "execution_count": 10,
   "id": "984adbac",
   "metadata": {},
   "outputs": [
    {
     "name": "stdin",
     "output_type": "stream",
     "text": [
      "enter the year clearly 2001\n",
      "enter the month clearly 12\n"
     ]
    },
    {
     "name": "stdout",
     "output_type": "stream",
     "text": [
      "   December 2001\n",
      "Mo Tu We Th Fr Sa Su\n",
      "                1  2\n",
      " 3  4  5  6  7  8  9\n",
      "10 11 12 13 14 15 16\n",
      "17 18 19 20 21 22 23\n",
      "24 25 26 27 28 29 30\n",
      "31\n",
      "\n"
     ]
    }
   ],
   "source": [
    "import calendar\n",
    "year = int(input(\"enter the year clearly\"))\n",
    "month = int(input(\"enter the month clearly\"))\n",
    "print(calendar.month(year,month))"
   ]
  },
  {
   "cell_type": "code",
   "execution_count": null,
   "id": "60d7b82f",
   "metadata": {},
   "outputs": [],
   "source": []
  },
  {
   "cell_type": "code",
   "execution_count": 11,
   "id": "513bdaea",
   "metadata": {},
   "outputs": [],
   "source": [
    "#Write a Python program to solve quadratic equation?\n"
   ]
  },
  {
   "cell_type": "code",
   "execution_count": 24,
   "id": "70c0cc7d",
   "metadata": {
    "scrolled": true
   },
   "outputs": [
    {
     "name": "stdin",
     "output_type": "stream",
     "text": [
      "enter the coeffiecient of x^2  1\n",
      "enter the coeffiecient of x  -3\n",
      "enter the constant 2\n"
     ]
    },
    {
     "name": "stdout",
     "output_type": "stream",
     "text": [
      "roots of the quadratic equation 1x^2 + -3x + 2 are \n",
      "2.0 \n",
      "1.0 \n"
     ]
    }
   ],
   "source": [
    "import math\n",
    "a = int(input(\"enter the coeffiecient of x^2 \"))\n",
    "b = int(input(\"enter the coeffiecient of x \"))\n",
    "c= int(input(\"enter the constant\"))\n",
    "\n",
    "d = (b**2)-(4*a*c)\n",
    "root1 = (-b+cmath.sqrt(d))/(2*a)\n",
    "root2 = (-b-cmath.sqrt(d))/(2*a)\n",
    "\n",
    "print(f\"roots of the quadratic equation {a}x^2 + {b}x + {c} are \\n{root1.real} \\n{root2.real} \")"
   ]
  },
  {
   "cell_type": "code",
   "execution_count": null,
   "id": "13ab131c",
   "metadata": {},
   "outputs": [],
   "source": []
  },
  {
   "cell_type": "code",
   "execution_count": 25,
   "id": "b07ef13a",
   "metadata": {},
   "outputs": [],
   "source": [
    "#Write a Python program to swap two variables without temp variable"
   ]
  },
  {
   "cell_type": "code",
   "execution_count": 26,
   "id": "96a2965e",
   "metadata": {},
   "outputs": [
    {
     "name": "stdin",
     "output_type": "stream",
     "text": [
      "enter the 1st number  12\n",
      "enter the 2nd number  21\n"
     ]
    },
    {
     "name": "stdout",
     "output_type": "stream",
     "text": [
      "the values of variable 1 and variale 2 before swapping are 12 and 21\n",
      "the values of variable 1 and variale 2 after swapping are 21 and 12\n"
     ]
    }
   ],
   "source": [
    "var1 = int(input(\"enter the 1st number \"))\n",
    "var2 = int(input(\"enter the 2nd number \"))\n",
    "print(f\"the values of variable 1 and variale 2 before swapping are {var1 } and {var2}\")\n",
    "var1 = var1+var2\n",
    "var2 = var1-var2\n",
    "var1 = var1-var2\n",
    "print(f\"the values of variable 1 and variale 2 after swapping are {var1 } and {var2}\")"
   ]
  },
  {
   "cell_type": "code",
   "execution_count": null,
   "id": "c045006c",
   "metadata": {},
   "outputs": [],
   "source": []
  }
 ],
 "metadata": {
  "kernelspec": {
   "display_name": "Python 3 (ipykernel)",
   "language": "python",
   "name": "python3"
  },
  "language_info": {
   "codemirror_mode": {
    "name": "ipython",
    "version": 3
   },
   "file_extension": ".py",
   "mimetype": "text/x-python",
   "name": "python",
   "nbconvert_exporter": "python",
   "pygments_lexer": "ipython3",
   "version": "3.10.6"
  }
 },
 "nbformat": 4,
 "nbformat_minor": 5
}

{
 "cells": [
  {
   "cell_type": "code",
   "execution_count": 2,
   "id": "b03e9d9c",
   "metadata": {},
   "outputs": [],
   "source": [
    "#Write a Python Program to Find LCM?"
   ]
  },
  {
   "cell_type": "code",
   "execution_count": 50,
   "id": "8c95a331",
   "metadata": {},
   "outputs": [
    {
     "name": "stdout",
     "output_type": "stream",
     "text": [
      "enter the number81\n",
      "enter the number72\n"
     ]
    }
   ],
   "source": [
    "num1 = int(input(\"enter the number\"))\n",
    "num2 = int(input(\"enter the number\"))\n",
    "hcf_list = list()\n",
    "for i in range(1,min(num1,num2)):\n",
    "    if num1%i == 0 and num2%i == 0:\n",
    "        hcf_list.append(i)\n",
    "hcf = max(hcf_list)\n",
    "lcm = (num1*num2)/hcf   "
   ]
  },
  {
   "cell_type": "code",
   "execution_count": 51,
   "id": "0940ebde",
   "metadata": {
    "scrolled": true
   },
   "outputs": [
    {
     "data": {
      "text/plain": [
       "648.0"
      ]
     },
     "execution_count": 51,
     "metadata": {},
     "output_type": "execute_result"
    }
   ],
   "source": [
    "lcm"
   ]
  },
  {
   "cell_type": "code",
   "execution_count": 52,
   "id": "b0d21b65",
   "metadata": {},
   "outputs": [],
   "source": [
    "#Write a Python Program to Find HCF?"
   ]
  },
  {
   "cell_type": "code",
   "execution_count": 53,
   "id": "2134e5ab",
   "metadata": {},
   "outputs": [
    {
     "data": {
      "text/plain": [
       "9"
      ]
     },
     "execution_count": 53,
     "metadata": {},
     "output_type": "execute_result"
    }
   ],
   "source": [
    "hcf"
   ]
  },
  {
   "cell_type": "code",
   "execution_count": 54,
   "id": "1684b0fa",
   "metadata": {},
   "outputs": [],
   "source": [
    "#Write a Python Program to Convert Decimal to Binary, Octal and Hexadecimal?"
   ]
  },
  {
   "cell_type": "code",
   "execution_count": 6,
   "id": "2f6ec272",
   "metadata": {},
   "outputs": [
    {
     "name": "stdout",
     "output_type": "stream",
     "text": [
      "enter the decimal number 10\n",
      "the binary number of 10 is 0b1010\n",
      "the octal number of 10 is 0o12\n",
      "the Hexadecimal number of 10 is 0xa\n"
     ]
    }
   ],
   "source": [
    "num = int(input(\"enter the decimal number \"))\n",
    "print(f\"the binary number of {num} is {bin(num)}\")\n",
    "print(f\"the octal number of {num} is {oct(num)}\")\n",
    "print(f\"the Hexadecimal number of {num} is {hex(num)}\")"
   ]
  },
  {
   "cell_type": "code",
   "execution_count": null,
   "id": "e7e1b6b7",
   "metadata": {},
   "outputs": [],
   "source": []
  },
  {
   "cell_type": "code",
   "execution_count": 7,
   "id": "aaed2b6d",
   "metadata": {},
   "outputs": [],
   "source": [
    "#Write a Python Program To Find ASCII value of a character?"
   ]
  },
  {
   "cell_type": "code",
   "execution_count": 15,
   "id": "290bc82a",
   "metadata": {},
   "outputs": [
    {
     "name": "stdout",
     "output_type": "stream",
     "text": [
      "enter the valueS\n",
      "The ASCII value of S is 83\n"
     ]
    }
   ],
   "source": [
    "value = input(\"enter the value\")\n",
    "print(f\"The ASCII value of {value} is {ord(value)}\") #ord() is an inbuilt function to convert an charecter to integer "
   ]
  },
  {
   "cell_type": "code",
   "execution_count": 7,
   "id": "b645878f",
   "metadata": {},
   "outputs": [],
   "source": [
    "# Write a Python Program to Make a Simple Calculator with 4 basic mathematical operations?"
   ]
  },
  {
   "cell_type": "code",
   "execution_count": 10,
   "id": "a8df9f95",
   "metadata": {},
   "outputs": [
    {
     "name": "stdout",
     "output_type": "stream",
     "text": [
      "\n",
      "SELECT OPERATION YOU WANT TO PERFORM \n",
      "\n",
      "1 ==> ADDITION\n",
      "2 ==> SUBSTRACTION\n",
      "3 ==> MULTIPLICATION\n",
      "4 ==> DIVISION\n",
      "Enter choice(1/2/3/4): 12\n",
      "\n",
      "******Invalid Input*********\n",
      "\n",
      "SELECT OPERATION YOU WANT TO PERFORM \n",
      "\n",
      "1 ==> ADDITION\n",
      "2 ==> SUBSTRACTION\n",
      "3 ==> MULTIPLICATION\n",
      "4 ==> DIVISION\n",
      "Enter choice(1/2/3/4): 1\n",
      "Enter first number: 13\n",
      "Enter second number: 12\n",
      "25.0\n",
      "Let's do next calculation? (y/n): y\n",
      "\n",
      "SELECT OPERATION YOU WANT TO PERFORM \n",
      "\n",
      "1 ==> ADDITION\n",
      "2 ==> SUBSTRACTION\n",
      "3 ==> MULTIPLICATION\n",
      "4 ==> DIVISION\n",
      "Enter choice(1/2/3/4): 2\n",
      "Enter first number: 12\n",
      "Enter second number: 43\n",
      "-31.0\n",
      "Let's do next calculation? (y/n): y\n",
      "\n",
      "SELECT OPERATION YOU WANT TO PERFORM \n",
      "\n",
      "1 ==> ADDITION\n",
      "2 ==> SUBSTRACTION\n",
      "3 ==> MULTIPLICATION\n",
      "4 ==> DIVISION\n",
      "Enter choice(1/2/3/4): 12\n",
      "\n",
      "******Invalid Input*********\n",
      "\n",
      "SELECT OPERATION YOU WANT TO PERFORM \n",
      "\n",
      "1 ==> ADDITION\n",
      "2 ==> SUBSTRACTION\n",
      "3 ==> MULTIPLICATION\n",
      "4 ==> DIVISION\n",
      "Enter choice(1/2/3/4): 32\n",
      "\n",
      "******Invalid Input*********\n",
      "\n",
      "SELECT OPERATION YOU WANT TO PERFORM \n",
      "\n",
      "1 ==> ADDITION\n",
      "2 ==> SUBSTRACTION\n",
      "3 ==> MULTIPLICATION\n",
      "4 ==> DIVISION\n",
      "Enter choice(1/2/3/4): 1\n",
      "Enter first number: 12\n",
      "Enter second number: 21\n",
      "33.0\n",
      "Let's do next calculation? (y/n): y\n",
      "\n",
      "SELECT OPERATION YOU WANT TO PERFORM \n",
      "\n",
      "1 ==> ADDITION\n",
      "2 ==> SUBSTRACTION\n",
      "3 ==> MULTIPLICATION\n",
      "4 ==> DIVISION\n",
      "Enter choice(1/2/3/4): 3\n",
      "Enter first number: 1231\n",
      "Enter second number: 2\n",
      "2462.0\n",
      "Let's do next calculation? (y/n): y\n",
      "\n",
      "SELECT OPERATION YOU WANT TO PERFORM \n",
      "\n",
      "1 ==> ADDITION\n",
      "2 ==> SUBSTRACTION\n",
      "3 ==> MULTIPLICATION\n",
      "4 ==> DIVISION\n",
      "Enter choice(1/2/3/4): 1234\n",
      "\n",
      "******Invalid Input*********\n",
      "\n",
      "SELECT OPERATION YOU WANT TO PERFORM \n",
      "\n",
      "1 ==> ADDITION\n",
      "2 ==> SUBSTRACTION\n",
      "3 ==> MULTIPLICATION\n",
      "4 ==> DIVISION\n",
      "Enter choice(1/2/3/4): 32\n",
      "\n",
      "******Invalid Input*********\n",
      "\n",
      "SELECT OPERATION YOU WANT TO PERFORM \n",
      "\n",
      "1 ==> ADDITION\n",
      "2 ==> SUBSTRACTION\n",
      "3 ==> MULTIPLICATION\n",
      "4 ==> DIVISION\n",
      "Enter choice(1/2/3/4): y\n",
      "\n",
      "******Invalid Input*********\n",
      "\n",
      "SELECT OPERATION YOU WANT TO PERFORM \n",
      "\n",
      "1 ==> ADDITION\n",
      "2 ==> SUBSTRACTION\n",
      "3 ==> MULTIPLICATION\n",
      "4 ==> DIVISION\n",
      "Enter choice(1/2/3/4): 4\n",
      "Enter first number: 1234\n",
      "Enter second number: 123\n",
      "10.032520325203253\n",
      "Let's do next calculation? (y/n): n\n"
     ]
    }
   ],
   "source": [
    "while True:\n",
    "    print(\"\\nSELECT OPERATION YOU WANT TO PERFORM \\n\")\n",
    "    print(\"1 ==> ADDITION\")\n",
    "    print(\"2 ==> SUBSTRACTION\")\n",
    "    print(\"3 ==> MULTIPLICATION\")\n",
    "    print(\"4 ==> DIVISION\")\n",
    "    \n",
    "    choice = input(\"Enter choice(1/2/3/4): \")\n",
    "\n",
    "    if choice in ('1', '2', '3', '4'):\n",
    "        num1 = float(input(\"Enter first number: \"))\n",
    "        num2 = float(input(\"Enter second number: \"))\n",
    "\n",
    "        if choice == '1':\n",
    "            print(num1+num2)\n",
    "\n",
    "        elif choice == '2':\n",
    "            print(num1-num2)\n",
    "\n",
    "        elif choice == '3':\n",
    "            print(num1*num2)\n",
    "\n",
    "        elif choice == '4':\n",
    "            print(num1/num2)\n",
    "        \n",
    "        # checking that if  we wants to do another calculation\n",
    "        next_calculation = input(\"Let's do next calculation? (y/n): \")\n",
    "        if next_calculation == \"n\":\n",
    "          break\n",
    "    else:\n",
    "        print(\"\\n******Invalid Input*********\")"
   ]
  },
  {
   "cell_type": "code",
   "execution_count": null,
   "id": "b686a70b",
   "metadata": {},
   "outputs": [],
   "source": []
  }
 ],
 "metadata": {
  "kernelspec": {
   "display_name": "Python 3 (ipykernel)",
   "language": "python",
   "name": "python3"
  },
  "language_info": {
   "codemirror_mode": {
    "name": "ipython",
    "version": 3
   },
   "file_extension": ".py",
   "mimetype": "text/x-python",
   "name": "python",
   "nbconvert_exporter": "python",
   "pygments_lexer": "ipython3",
   "version": "3.9.12"
  }
 },
 "nbformat": 4,
 "nbformat_minor": 5
}
